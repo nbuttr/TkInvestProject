{
 "cells": [
  {
   "cell_type": "code",
   "execution_count": 1,
   "id": "402f2458-b8d8-4b98-ac8e-6c1d0ba7e0db",
   "metadata": {},
   "outputs": [
    {
     "name": "stdout",
     "output_type": "stream",
     "text": [
      "Requirement already satisfied: tinkoff-investments in d:\\anaconda3\\lib\\site-packages (0.2.0b98)\n",
      "Requirement already satisfied: cachetools<6.0.0,>=5.2.0 in d:\\anaconda3\\lib\\site-packages (from tinkoff-investments) (5.3.3)\n",
      "Requirement already satisfied: deprecation<3.0.0,>=2.1.0 in d:\\anaconda3\\lib\\site-packages (from tinkoff-investments) (2.1.0)\n",
      "Requirement already satisfied: grpcio<2.0.0,>=1.59.3 in d:\\anaconda3\\lib\\site-packages (from tinkoff-investments) (1.63.0)\n",
      "Requirement already satisfied: protobuf<5.0.0,>=4.25.1 in d:\\anaconda3\\lib\\site-packages (from tinkoff-investments) (4.25.3)\n",
      "Requirement already satisfied: python-dateutil<3.0.0,>=2.8.2 in d:\\anaconda3\\lib\\site-packages (from tinkoff-investments) (2.8.2)\n",
      "Requirement already satisfied: tinkoff<0.2.0,>=0.1.1 in d:\\anaconda3\\lib\\site-packages (from tinkoff-investments) (0.1.1)\n",
      "Requirement already satisfied: packaging in d:\\anaconda3\\lib\\site-packages (from deprecation<3.0.0,>=2.1.0->tinkoff-investments) (23.1)\n",
      "Requirement already satisfied: six>=1.5 in d:\\anaconda3\\lib\\site-packages (from python-dateutil<3.0.0,>=2.8.2->tinkoff-investments) (1.16.0)\n",
      "Note: you may need to restart the kernel to use updated packages.\n"
     ]
    },
    {
     "name": "stderr",
     "output_type": "stream",
     "text": [
      "DEPRECATION: Loading egg at d:\\anaconda3\\lib\\site-packages\\vboxapi-1.0-py3.11.egg is deprecated. pip 24.3 will enforce this behaviour change. A possible replacement is to use pip for package installation.. Discussion can be found at https://github.com/pypa/pip/issues/12330\n"
     ]
    }
   ],
   "source": [
    "pip install tinkoff-investments"
   ]
  },
  {
   "cell_type": "code",
   "execution_count": 2,
   "id": "315f8c27-9636-4410-ae55-8d05dd93fa21",
   "metadata": {},
   "outputs": [
    {
     "name": "stdout",
     "output_type": "stream",
     "text": [
      "Requirement already satisfied: fastapi in d:\\anaconda3\\lib\\site-packages (0.111.0)\n",
      "Requirement already satisfied: uvicorn in d:\\anaconda3\\lib\\site-packages (0.20.0)\n",
      "Requirement already satisfied: starlette<0.38.0,>=0.37.2 in d:\\anaconda3\\lib\\site-packages (from fastapi) (0.37.2)\n",
      "Requirement already satisfied: pydantic!=1.8,!=1.8.1,!=2.0.0,!=2.0.1,!=2.1.0,<3.0.0,>=1.7.4 in d:\\anaconda3\\lib\\site-packages (from fastapi) (1.10.15)\n",
      "Requirement already satisfied: typing-extensions>=4.8.0 in d:\\anaconda3\\lib\\site-packages (from fastapi) (4.9.0)\n",
      "Requirement already satisfied: fastapi-cli>=0.0.2 in d:\\anaconda3\\lib\\site-packages (from fastapi) (0.0.4)\n",
      "Requirement already satisfied: httpx>=0.23.0 in d:\\anaconda3\\lib\\site-packages (from fastapi) (0.27.0)\n",
      "Requirement already satisfied: jinja2>=2.11.2 in d:\\anaconda3\\lib\\site-packages (from fastapi) (3.1.3)\n",
      "Requirement already satisfied: python-multipart>=0.0.7 in d:\\anaconda3\\lib\\site-packages (from fastapi) (0.0.9)\n",
      "Requirement already satisfied: ujson!=4.0.2,!=4.1.0,!=4.2.0,!=4.3.0,!=5.0.0,!=5.1.0,>=4.0.1 in d:\\anaconda3\\lib\\site-packages (from fastapi) (5.4.0)\n",
      "Requirement already satisfied: orjson>=3.2.1 in d:\\anaconda3\\lib\\site-packages (from fastapi) (3.10.3)\n",
      "Requirement already satisfied: email_validator>=2.0.0 in d:\\anaconda3\\lib\\site-packages (from fastapi) (2.1.1)\n",
      "Requirement already satisfied: click>=7.0 in d:\\anaconda3\\lib\\site-packages (from uvicorn) (8.1.7)\n",
      "Requirement already satisfied: h11>=0.8 in d:\\anaconda3\\lib\\site-packages (from uvicorn) (0.14.0)\n",
      "Requirement already satisfied: colorama in d:\\anaconda3\\lib\\site-packages (from click>=7.0->uvicorn) (0.4.6)\n",
      "Requirement already satisfied: dnspython>=2.0.0 in d:\\anaconda3\\lib\\site-packages (from email_validator>=2.0.0->fastapi) (2.6.1)\n",
      "Requirement already satisfied: idna>=2.0.0 in d:\\anaconda3\\lib\\site-packages (from email_validator>=2.0.0->fastapi) (3.4)\n",
      "Requirement already satisfied: typer>=0.12.3 in d:\\anaconda3\\lib\\site-packages (from fastapi-cli>=0.0.2->fastapi) (0.12.3)\n",
      "Requirement already satisfied: anyio in d:\\anaconda3\\lib\\site-packages (from httpx>=0.23.0->fastapi) (4.2.0)\n",
      "Requirement already satisfied: certifi in d:\\anaconda3\\lib\\site-packages (from httpx>=0.23.0->fastapi) (2024.2.2)\n",
      "Requirement already satisfied: httpcore==1.* in d:\\anaconda3\\lib\\site-packages (from httpx>=0.23.0->fastapi) (1.0.5)\n",
      "Requirement already satisfied: sniffio in d:\\anaconda3\\lib\\site-packages (from httpx>=0.23.0->fastapi) (1.3.0)\n",
      "Requirement already satisfied: MarkupSafe>=2.0 in d:\\anaconda3\\lib\\site-packages (from jinja2>=2.11.2->fastapi) (2.1.3)\n",
      "Requirement already satisfied: httptools>=0.5.0 in d:\\anaconda3\\lib\\site-packages (from uvicorn[standard]>=0.12.0->fastapi) (0.6.1)\n",
      "Requirement already satisfied: python-dotenv>=0.13 in d:\\anaconda3\\lib\\site-packages (from uvicorn[standard]>=0.12.0->fastapi) (0.21.0)\n",
      "Requirement already satisfied: pyyaml>=5.1 in d:\\anaconda3\\lib\\site-packages (from uvicorn[standard]>=0.12.0->fastapi) (6.0.1)\n",
      "Requirement already satisfied: watchfiles>=0.13 in d:\\anaconda3\\lib\\site-packages (from uvicorn[standard]>=0.12.0->fastapi) (0.22.0)\n",
      "Requirement already satisfied: websockets>=10.4 in d:\\anaconda3\\lib\\site-packages (from uvicorn[standard]>=0.12.0->fastapi) (12.0)\n",
      "Requirement already satisfied: shellingham>=1.3.0 in d:\\anaconda3\\lib\\site-packages (from typer>=0.12.3->fastapi-cli>=0.0.2->fastapi) (1.5.4)\n",
      "Requirement already satisfied: rich>=10.11.0 in d:\\anaconda3\\lib\\site-packages (from typer>=0.12.3->fastapi-cli>=0.0.2->fastapi) (13.3.5)\n",
      "Requirement already satisfied: markdown-it-py<3.0.0,>=2.2.0 in d:\\anaconda3\\lib\\site-packages (from rich>=10.11.0->typer>=0.12.3->fastapi-cli>=0.0.2->fastapi) (2.2.0)\n",
      "Requirement already satisfied: pygments<3.0.0,>=2.13.0 in d:\\anaconda3\\lib\\site-packages (from rich>=10.11.0->typer>=0.12.3->fastapi-cli>=0.0.2->fastapi) (2.15.1)\n",
      "Requirement already satisfied: mdurl~=0.1 in d:\\anaconda3\\lib\\site-packages (from markdown-it-py<3.0.0,>=2.2.0->rich>=10.11.0->typer>=0.12.3->fastapi-cli>=0.0.2->fastapi) (0.1.0)\n",
      "Note: you may need to restart the kernel to use updated packages.\n"
     ]
    },
    {
     "name": "stderr",
     "output_type": "stream",
     "text": [
      "DEPRECATION: Loading egg at d:\\anaconda3\\lib\\site-packages\\vboxapi-1.0-py3.11.egg is deprecated. pip 24.3 will enforce this behaviour change. A possible replacement is to use pip for package installation.. Discussion can be found at https://github.com/pypa/pip/issues/12330\n"
     ]
    }
   ],
   "source": [
    "pip install fastapi uvicorn"
   ]
  },
  {
   "cell_type": "code",
   "execution_count": 19,
   "id": "e63347f2",
   "metadata": {
    "colab": {
     "base_uri": "https://localhost:8080/"
    },
    "id": "e63347f2",
    "outputId": "d615cc94-86f3-4bc3-9509-c7edda1d3bf3"
   },
   "outputs": [],
   "source": [
    "import os\n",
    "import datetime\n",
    "import IPython\n",
    "import IPython.display\n",
    "import matplotlib as mpl\n",
    "import matplotlib.pyplot as plt\n",
    "import numpy as np\n",
    "import pandas as pd\n",
    "import seaborn as sns\n",
    "import pandas_datareader as pdr\n",
    "import csv\n",
    "\n",
    "from datetime import date\n",
    "from tinkoff.invest import CandleInterval, Client, InstrumentStatus\n",
    "from tinkoff.invest.services import InstrumentsService, MarketDataService\n",
    "from tinkoff.invest.schemas import CandleSource\n",
    "from tinkoff.invest.utils import now\n",
    "from datetime import timedelta\n",
    "from tensorflow.keras.models import Sequential\n",
    "from tensorflow.keras.layers import LSTM, Dense\n",
    "from sklearn.preprocessing import MinMaxScaler\n",
    "from sklearn.model_selection import train_test_split\n",
    "import tensorflow as tf\n",
    "\n",
    "\n"
   ]
  },
  {
   "cell_type": "code",
   "execution_count": 20,
   "id": "696434e9-737b-4823-8aca-db4ab74bf578",
   "metadata": {},
   "outputs": [],
   "source": [
    "TOKEN = \"t.Gu3RbTine5HbBdjILk50gBAUjDjAH_Uc1uaFOsLSo28D9aUF9ET79J1QZUoYWjc07ZyhjRFQlxwrFcSl0EDVHw\""
   ]
  },
  {
   "cell_type": "code",
   "execution_count": 21,
   "id": "6aaa2e71-aa4e-44a2-a7b8-28d8f1499f36",
   "metadata": {},
   "outputs": [],
   "source": [
    "with Client(TOKEN) as client:\n",
    "    with open('data.csv', mode='w', newline='') as file:\n",
    "        fieldnames = ['Close']  # Заголовки столбцов\n",
    "        writer = csv.DictWriter(file, fieldnames=fieldnames)\n",
    "        writer.writeheader()\n",
    "        \n",
    "        for candle in client.get_all_candles(\n",
    "            instrument_id=\"BBG004RVFFC0\",\n",
    "            from_=now() - timedelta(days=2000),\n",
    "            interval=CandleInterval.CANDLE_INTERVAL_DAY,\n",
    "            candle_source_type=CandleSource.CANDLE_SOURCE_UNSPECIFIED,\n",
    "        ):\n",
    "            cand = candle.close.units\n",
    "            writer.writerow({'Close': cand})"
   ]
  },
  {
   "cell_type": "code",
   "execution_count": 22,
   "id": "3Bzr_Qn7iedJ",
   "metadata": {
    "colab": {
     "base_uri": "https://localhost:8080/",
     "height": 221
    },
    "id": "3Bzr_Qn7iedJ",
    "outputId": "ff7d351a-2ec8-4474-f990-ae65a865ad6e"
   },
   "outputs": [
    {
     "name": "stdout",
     "output_type": "stream",
     "text": [
      "      Close\n",
      "0       719\n",
      "1       714\n",
      "2       714\n",
      "3       710\n",
      "4       703\n",
      "...     ...\n",
      "1360    685\n",
      "1361    694\n",
      "1362    691\n",
      "1363    692\n",
      "1364    695\n",
      "\n",
      "[1365 rows x 1 columns]\n"
     ]
    }
   ],
   "source": [
    "data_closed = pd.read_csv('data.csv')\n",
    "print(data_closed)"
   ]
  },
  {
   "cell_type": "code",
   "execution_count": 23,
   "id": "a6bb0dbe-9892-445d-a49e-7edfdee26280",
   "metadata": {},
   "outputs": [
    {
     "data": {
      "image/png": "[encoded data removed]",
      "text/plain": [
       "<Figure size 1600x600 with 1 Axes>"
      ]
     },
     "metadata": {},
     "output_type": "display_data"
    }
   ],
   "source": [
    "plt.figure(figsize=(16, 6))\n",
    "plt.plot(data_closed['Close'], linewidth=0.5)\n",
    "plt.title(\"TATN Corporation Stock Price\")\n",
    "plt.xlabel(\"Date\")\n",
    "plt.ylabel(\"Price (INR)\")\n",
    "plt.grid(True)\n",
    "plt.show()"
   ]
  },
  {
   "cell_type": "code",
   "execution_count": 24,
   "id": "3697f88c-fc5a-4847-9a54-0b5f4f47c088",
   "metadata": {},
   "outputs": [
    {
     "name": "stdout",
     "output_type": "stream",
     "text": [
      "      Close\n",
      "0       719\n",
      "1       714\n",
      "2       714\n",
      "3       710\n",
      "4       703\n",
      "...     ...\n",
      "1360    685\n",
      "1361    694\n",
      "1362    691\n",
      "1363    692\n",
      "1364    695\n",
      "\n",
      "[1365 rows x 1 columns]\n"
     ]
    }
   ],
   "source": [
    "train = pd.DataFrame(data_closed[0:int(len(data_closed))])\n",
    "# test = pd.DataFrame(data_closed[int(len(data_closed)*0.70): int(len(data_closed))])\n",
    "\n",
    "print(train)\n",
    "# print(test.shape)"
   ]
  },
  {
   "cell_type": "code",
   "execution_count": 25,
   "id": "a6dde376",
   "metadata": {
    "id": "a6dde376"
   },
   "outputs": [],
   "source": [
    "# Делаем нормализацию данных\n",
    "scaler = MinMaxScaler()\n",
    "data_closed_scaled = pd.DataFrame(scaler.fit_transform(data_closed), columns=data_closed.columns) # применяем скалирование"
   ]
  },
  {
   "cell_type": "code",
   "execution_count": 26,
   "id": "3735e8eb-e6ea-4a35-bfa0-eed8dc05ef4b",
   "metadata": {},
   "outputs": [
    {
     "data": {
      "text/html": [
       "<div>\n",
       "<style scoped>\n",
       "    .dataframe tbody tr th:only-of-type {\n",
       "        vertical-align: middle;\n",
       "    }\n",
       "\n",
       "    .dataframe tbody tr th {\n",
       "        vertical-align: top;\n",
       "    }\n",
       "\n",
       "    .dataframe thead th {\n",
       "        text-align: right;\n",
       "    }\n",
       "</style>\n",
       "<table border=\"1\" class=\"dataframe\">\n",
       "  <thead>\n",
       "    <tr style=\"text-align: right;\">\n",
       "      <th></th>\n",
       "      <th>Close</th>\n",
       "    </tr>\n",
       "  </thead>\n",
       "  <tbody>\n",
       "    <tr>\n",
       "      <th>0</th>\n",
       "      <td>0.786948</td>\n",
       "    </tr>\n",
       "    <tr>\n",
       "      <th>1</th>\n",
       "      <td>0.777351</td>\n",
       "    </tr>\n",
       "    <tr>\n",
       "      <th>2</th>\n",
       "      <td>0.777351</td>\n",
       "    </tr>\n",
       "    <tr>\n",
       "      <th>3</th>\n",
       "      <td>0.769674</td>\n",
       "    </tr>\n",
       "    <tr>\n",
       "      <th>4</th>\n",
       "      <td>0.756238</td>\n",
       "    </tr>\n",
       "    <tr>\n",
       "      <th>...</th>\n",
       "      <td>...</td>\n",
       "    </tr>\n",
       "    <tr>\n",
       "      <th>1360</th>\n",
       "      <td>0.721689</td>\n",
       "    </tr>\n",
       "    <tr>\n",
       "      <th>1361</th>\n",
       "      <td>0.738964</td>\n",
       "    </tr>\n",
       "    <tr>\n",
       "      <th>1362</th>\n",
       "      <td>0.733205</td>\n",
       "    </tr>\n",
       "    <tr>\n",
       "      <th>1363</th>\n",
       "      <td>0.735125</td>\n",
       "    </tr>\n",
       "    <tr>\n",
       "      <th>1364</th>\n",
       "      <td>0.740883</td>\n",
       "    </tr>\n",
       "  </tbody>\n",
       "</table>\n",
       "<p>1365 rows × 1 columns</p>\n",
       "</div>"
      ],
      "text/plain": [
       "         Close\n",
       "0     0.786948\n",
       "1     0.777351\n",
       "2     0.777351\n",
       "3     0.769674\n",
       "4     0.756238\n",
       "...        ...\n",
       "1360  0.721689\n",
       "1361  0.738964\n",
       "1362  0.733205\n",
       "1363  0.735125\n",
       "1364  0.740883\n",
       "\n",
       "[1365 rows x 1 columns]"
      ]
     },
     "execution_count": 26,
     "metadata": {},
     "output_type": "execute_result"
    }
   ],
   "source": [
    "data_closed_scaled"
   ]
  },
  {
   "cell_type": "code",
   "execution_count": 27,
   "id": "aa6bf738",
   "metadata": {
    "id": "aa6bf738"
   },
   "outputs": [],
   "source": [
    "# Выделяем сегмент для тренировки сети и сегмент для тестирования натренированной сети в отношении 1/4\n",
    "train, test = train_test_split(data_closed_scaled, test_size=0.2, shuffle=False)"
   ]
  },
  {
   "cell_type": "code",
   "execution_count": 28,
   "id": "viW_fIxv2Tqk",
   "metadata": {
    "colab": {
     "base_uri": "https://localhost:8080/"
    },
    "id": "viW_fIxv2Tqk",
    "outputId": "6bed8d4f-d662-47a3-8434-0b7eaf76beb7"
   },
   "outputs": [
    {
     "name": "stdout",
     "output_type": "stream",
     "text": [
      "      Close\n",
      "0  0.786948\n",
      "1  0.777351\n",
      "2  0.777351\n",
      "3  0.769674\n",
      "4  0.756238\n",
      "         Close\n",
      "1092  0.186180\n",
      "1093  0.184261\n",
      "1094  0.195777\n",
      "1095  0.193858\n",
      "1096  0.205374\n"
     ]
    }
   ],
   "source": [
    "print(train.head())\n",
    "print(test.head())"
   ]
  },
  {
   "cell_type": "code",
   "execution_count": 29,
   "id": "0bc7b55a",
   "metadata": {
    "colab": {
     "base_uri": "https://localhost:8080/"
    },
    "id": "0bc7b55a",
    "outputId": "910f1962-baae-422e-ed3d-db283c142cb8"
   },
   "outputs": [
    {
     "name": "stderr",
     "output_type": "stream",
     "text": [
      "D:\\anaconda3\\Lib\\site-packages\\keras\\src\\layers\\rnn\\rnn.py:204: UserWarning: Do not pass an `input_shape`/`input_dim` argument to a layer. When using Sequential models, prefer using an `Input(shape)` object as the first layer in the model instead.\n",
      "  super().__init__(**kwargs)\n"
     ]
    }
   ],
   "source": [
    "# Определяем структуру нашей модели\n",
    "model = Sequential()\n",
    "model.add(LSTM(50, activation='relu', input_shape=(None, 1))) # Первый слой - это LSTM сеть\n",
    "model.add(Dense(1)) # второй слой - обычная линейная регрессия\n",
    "model.compile(optimizer='adam', loss='mean_squared_error') # в качестве метода оптимизации используем стохастический градиентный метод, в качестве целевой функции среднюю квадратичную ошибку"
   ]
  },
  {
   "cell_type": "code",
   "execution_count": 30,
   "id": "6bd39d1d",
   "metadata": {
    "id": "6bd39d1d"
   },
   "outputs": [],
   "source": [
    "# Готовим данные для обучения сети\n",
    "window_size = 10  # Выбираем размер окна для формирования предсказания\n",
    "# Готовим тренировочные данные - выбираем окна размером 10 и для каждого окна ожидаемый результат 11-ое значение\n",
    "X_train = np.array([train.iloc[i-window_size:i].values for i in range(window_size, len(train))])\n",
    "y_train = train.iloc[window_size:, 0].values\n",
    "# Аналогично готовим данные для проверки качества обучения сети\n",
    "X_test = np.array([test.iloc[i-window_size:i].values for i in range(window_size, len(test))])\n",
    "y_test = test.iloc[window_size:, 0].values\n",
    "# Преобразовываем данные в формат входа LSTM модели\n",
    "X_train = X_train.reshape(X_train.shape[0], window_size, 1)\n",
    "X_test = X_test.reshape(X_test.shape[0], window_size, 1)"
   ]
  },
  {
   "cell_type": "code",
   "execution_count": 50,
   "id": "ncmqC48yk3r6",
   "metadata": {
    "colab": {
     "base_uri": "https://localhost:8080/"
    },
    "id": "ncmqC48yk3r6",
    "outputId": "0a4a8441-ff0f-4385-eb70-a8a1e0df8b50",
    "scrolled": true
   },
   "outputs": [
    {
     "name": "stdout",
     "output_type": "stream",
     "text": [
      "[0.24760077 0.2571977  0.2706334  0.29558541 0.31861804 0.31477927\n",
      " 0.30902111 0.30902111 0.31285988 0.33013436 0.34357006 0.39539347\n",
      " 0.38771593 0.37236084 0.37236084 0.37236084 0.37428023 0.35508637\n",
      " 0.36276392 0.36084453 0.36660269 0.38003839 0.37619962 0.36660269\n",
      " 0.35316699 0.36852207 0.3646833  0.36852207 0.34165067 0.34740883\n",
      " 0.35700576 0.35508637 0.35892514 0.35892514 0.36084453 0.35892514\n",
      " 0.34357006 0.35508637 0.36276392 0.38387716 0.378119   0.38387716\n",
      " 0.39731286 0.41074856 0.41650672 0.43761996 0.45681382 0.4452975\n",
      " 0.45873321 0.47216891 0.49904031 0.50863724 0.51439539 0.51247601\n",
      " 0.50863724 0.48752399 0.49712092 0.51055662 0.52783109 0.53934741\n",
      " 0.51055662 0.52207294 0.53358925 0.53358925 0.53166987 0.53742802\n",
      " 0.53934741 0.54510557 0.56238004 0.57197697 0.57389635 0.56429942\n",
      " 0.54894434 0.53550864 0.57005758 0.56621881 0.56238004 0.58541267\n",
      " 0.6084453  0.57773512 0.57965451 0.55278311 0.57773512 0.56621881\n",
      " 0.56429942 0.58733205 0.5950096  0.60652591 0.63339731 0.63339731\n",
      " 0.62380038 0.621881   0.63147793 0.64107486 0.65259117 0.59309021\n",
      " 0.59117083 0.61228407 0.61228407 0.61228407 0.61996161 0.621881\n",
      " 0.61612284 0.6084453  0.60652591 0.60076775 0.58349328 0.60076775\n",
      " 0.59884837 0.57197697 0.57005758 0.56238004 0.56046065 0.57581574\n",
      " 0.57965451 0.58541267 0.58733205 0.59692898 0.58925144 0.57773512\n",
      " 0.57965451 0.56238004 0.58733205 0.58733205 0.62380038 0.6353167\n",
      " 0.63723608 0.65067179 0.63147793 0.63723608 0.63147793 0.63147793\n",
      " 0.61996161 0.60268714 0.62571977 0.60076775 0.6084453  0.62955854\n",
      " 0.60652591 0.60652591 0.61228407 0.59117083 0.62571977 0.64107486\n",
      " 0.66026871 0.66986564 0.66986564 0.6756238  0.70441459 0.74664107\n",
      " 0.7831094  0.76583493 0.7696737  0.78886756 0.79846449 0.79846449\n",
      " 0.79270633 0.72360845 0.73896353 0.7293666  0.74472169 0.75239923\n",
      " 0.74856046 0.74472169 0.74664107 0.73128599 0.74088292 0.74088292\n",
      " 0.73320537 0.7293666  0.73704415 0.73896353 0.73512476 0.756238\n",
      " 0.75815739 0.76199616 0.76775432 0.7696737  0.77927063 0.76775432\n",
      " 0.77351248 0.77159309 0.77351248 0.76391555 0.76775432 0.76391555\n",
      " 0.756238   0.73896353 0.72744722 0.73896353 0.75431862 0.7428023\n",
      " 0.76007678 0.78502879 0.7831094  0.81190019 0.80806142 0.83301344\n",
      " 0.84452975 0.85220729 0.85220729 0.83877159 0.84452975 0.79846449\n",
      " 0.77735125 0.75431862 0.74088292 0.756238   0.73896353 0.7293666\n",
      " 0.73512476 0.7293666  0.72552783 0.73896353 0.77159309 0.76775432\n",
      " 0.76391555 0.7696737  0.76775432 0.7696737  0.76199616 0.76775432\n",
      " 0.76583493 0.77735125 0.81957774 0.80422265 0.79270633 0.77927063\n",
      " 0.78119002 0.77159309 0.78694818 0.7831094  0.79270633 0.78502879\n",
      " 0.78886756 0.78886756 0.78502879 0.78694818 0.78502879 0.77927063\n",
      " 0.78502879 0.79078695 0.80422265 0.80614203 0.80998081 0.82533589\n",
      " 0.84836852 0.83877159 0.81381958 0.81573896 0.83685221 0.83301344\n",
      " 0.81190019 0.77543186 0.7696737  0.77927063 0.75431862 0.72744722\n",
      " 0.72168906 0.73896353 0.73320537 0.73512476 0.74088292]\n"
     ]
    }
   ],
   "source": [
    "print(y_test)"
   ]
  },
  {
   "cell_type": "code",
   "execution_count": 32,
   "id": "d3930c3a",
   "metadata": {
    "colab": {
     "base_uri": "https://localhost:8080/"
    },
    "id": "d3930c3a",
    "outputId": "51f43bf3-d2ef-4d44-abd3-51bd4b160fce"
   },
   "outputs": [
    {
     "name": "stdout",
     "output_type": "stream",
     "text": [
      "Epoch 1/10\n",
      "\u001b[1m34/34\u001b[0m \u001b[32m━━━━━━━━━━━━━━━━━━━━\u001b[0m\u001b[37m\u001b[0m \u001b[1m2s\u001b[0m 9ms/step - loss: 0.2197 - val_loss: 0.0109\n",
      "Epoch 2/10\n",
      "\u001b[1m34/34\u001b[0m \u001b[32m━━━━━━━━━━━━━━━━━━━━\u001b[0m\u001b[37m\u001b[0m \u001b[1m0s\u001b[0m 4ms/step - loss: 0.0119 - val_loss: 0.0015\n",
      "Epoch 3/10\n",
      "\u001b[1m34/34\u001b[0m \u001b[32m━━━━━━━━━━━━━━━━━━━━\u001b[0m\u001b[37m\u001b[0m \u001b[1m0s\u001b[0m 3ms/step - loss: 0.0042 - val_loss: 0.0018\n",
      "Epoch 4/10\n",
      "\u001b[1m34/34\u001b[0m \u001b[32m━━━━━━━━━━━━━━━━━━━━\u001b[0m\u001b[37m\u001b[0m \u001b[1m0s\u001b[0m 3ms/step - loss: 0.0028 - val_loss: 0.0017\n",
      "Epoch 5/10\n",
      "\u001b[1m34/34\u001b[0m \u001b[32m━━━━━━━━━━━━━━━━━━━━\u001b[0m\u001b[37m\u001b[0m \u001b[1m0s\u001b[0m 3ms/step - loss: 0.0024 - val_loss: 0.0016\n",
      "Epoch 6/10\n",
      "\u001b[1m34/34\u001b[0m \u001b[32m━━━━━━━━━━━━━━━━━━━━\u001b[0m\u001b[37m\u001b[0m \u001b[1m0s\u001b[0m 3ms/step - loss: 0.0020 - val_loss: 0.0013\n",
      "Epoch 7/10\n",
      "\u001b[1m34/34\u001b[0m \u001b[32m━━━━━━━━━━━━━━━━━━━━\u001b[0m\u001b[37m\u001b[0m \u001b[1m0s\u001b[0m 3ms/step - loss: 0.0021 - val_loss: 0.0012\n",
      "Epoch 8/10\n",
      "\u001b[1m34/34\u001b[0m \u001b[32m━━━━━━━━━━━━━━━━━━━━\u001b[0m\u001b[37m\u001b[0m \u001b[1m0s\u001b[0m 3ms/step - loss: 0.0020 - val_loss: 0.0020\n",
      "Epoch 9/10\n",
      "\u001b[1m34/34\u001b[0m \u001b[32m━━━━━━━━━━━━━━━━━━━━\u001b[0m\u001b[37m\u001b[0m \u001b[1m0s\u001b[0m 3ms/step - loss: 0.0019 - val_loss: 0.0013\n",
      "Epoch 10/10\n",
      "\u001b[1m34/34\u001b[0m \u001b[32m━━━━━━━━━━━━━━━━━━━━\u001b[0m\u001b[37m\u001b[0m \u001b[1m0s\u001b[0m 3ms/step - loss: 0.0020 - val_loss: 9.7420e-04\n"
     ]
    },
    {
     "data": {
      "text/plain": [
       "<keras.src.callbacks.history.History at 0x29d568e4990>"
      ]
     },
     "execution_count": 32,
     "metadata": {},
     "output_type": "execute_result"
    }
   ],
   "source": [
    "# Обучаем модель\n",
    "model.fit(X_train, y_train, epochs=10, validation_data=(X_test, y_test))"
   ]
  },
  {
   "cell_type": "code",
   "execution_count": 35,
   "id": "5d75d087-c344-4bda-acac-3e220d10617c",
   "metadata": {},
   "outputs": [],
   "source": [
    "model.save('keras_model.keras')"
   ]
  },
  {
   "cell_type": "code",
   "execution_count": 36,
   "id": "e24f1698",
   "metadata": {
    "colab": {
     "base_uri": "https://localhost:8080/"
    },
    "id": "e24f1698",
    "outputId": "5a23bad3-1d6f-46bb-c1e7-a57fa844b866"
   },
   "outputs": [
    {
     "name": "stdout",
     "output_type": "stream",
     "text": [
      "\u001b[1m34/34\u001b[0m \u001b[32m━━━━━━━━━━━━━━━━━━━━\u001b[0m\u001b[37m\u001b[0m \u001b[1m0s\u001b[0m 1ms/step - loss: 0.0020 \n",
      "\u001b[1m9/9\u001b[0m \u001b[32m━━━━━━━━━━━━━━━━━━━━\u001b[0m\u001b[37m\u001b[0m \u001b[1m0s\u001b[0m 1ms/step - loss: 8.5548e-04 \n",
      "Train Loss: 0.0017901663668453693\n",
      "Test Loss: 0.0009741991525515914\n"
     ]
    }
   ],
   "source": [
    "# Вычисляем отклонение по целевой функции\n",
    "train_loss = model.evaluate(X_train, y_train)\n",
    "test_loss = model.evaluate(X_test, y_test)\n",
    "print(f'Train Loss: {train_loss}')\n",
    "print(f'Test Loss: {test_loss}')"
   ]
  },
  {
   "cell_type": "code",
   "execution_count": 44,
   "id": "af7ecb86-b70d-4828-9fa1-47268ac905cf",
   "metadata": {},
   "outputs": [
    {
     "data": {
      "text/html": [
       "<pre style=\"white-space:pre;overflow-x:auto;line-height:normal;font-family:Menlo,'DejaVu Sans Mono',consolas,'Courier New',monospace\"><span style=\"font-weight: bold\">Model: \"sequential_1\"</span>\n",
       "</pre>\n"
      ],
      "text/plain": [
       "\u001b[1mModel: \"sequential_1\"\u001b[0m\n"
      ]
     },
     "metadata": {},
     "output_type": "display_data"
    },
    {
     "data": {
      "text/html": [
       "<pre style=\"white-space:pre;overflow-x:auto;line-height:normal;font-family:Menlo,'DejaVu Sans Mono',consolas,'Courier New',monospace\">┏━━━━━━━━━━━━━━━━━━━━━━━━━━━━━━━━━┳━━━━━━━━━━━━━━━━━━━━━━━━┳━━━━━━━━━━━━━━━┓\n",
       "┃<span style=\"font-weight: bold\"> Layer (type)                    </span>┃<span style=\"font-weight: bold\"> Output Shape           </span>┃<span style=\"font-weight: bold\">       Param # </span>┃\n",
       "┡━━━━━━━━━━━━━━━━━━━━━━━━━━━━━━━━━╇━━━━━━━━━━━━━━━━━━━━━━━━╇━━━━━━━━━━━━━━━┩\n",
       "│ lstm_1 (<span style=\"color: #0087ff; text-decoration-color: #0087ff\">LSTM</span>)                   │ (<span style=\"color: #00d7ff; text-decoration-color: #00d7ff\">None</span>, <span style=\"color: #00af00; text-decoration-color: #00af00\">50</span>)             │        <span style=\"color: #00af00; text-decoration-color: #00af00\">10,400</span> │\n",
       "├─────────────────────────────────┼────────────────────────┼───────────────┤\n",
       "│ dense_1 (<span style=\"color: #0087ff; text-decoration-color: #0087ff\">Dense</span>)                 │ (<span style=\"color: #00d7ff; text-decoration-color: #00d7ff\">None</span>, <span style=\"color: #00af00; text-decoration-color: #00af00\">1</span>)              │            <span style=\"color: #00af00; text-decoration-color: #00af00\">51</span> │\n",
       "└─────────────────────────────────┴────────────────────────┴───────────────┘\n",
       "</pre>\n"
      ],
      "text/plain": [
       "┏━━━━━━━━━━━━━━━━━━━━━━━━━━━━━━━━━┳━━━━━━━━━━━━━━━━━━━━━━━━┳━━━━━━━━━━━━━━━┓\n",
       "┃\u001b[1m \u001b[0m\u001b[1mLayer (type)                   \u001b[0m\u001b[1m \u001b[0m┃\u001b[1m \u001b[0m\u001b[1mOutput Shape          \u001b[0m\u001b[1m \u001b[0m┃\u001b[1m \u001b[0m\u001b[1m      Param #\u001b[0m\u001b[1m \u001b[0m┃\n",
       "┡━━━━━━━━━━━━━━━━━━━━━━━━━━━━━━━━━╇━━━━━━━━━━━━━━━━━━━━━━━━╇━━━━━━━━━━━━━━━┩\n",
       "│ lstm_1 (\u001b[38;5;33mLSTM\u001b[0m)                   │ (\u001b[38;5;45mNone\u001b[0m, \u001b[38;5;34m50\u001b[0m)             │        \u001b[38;5;34m10,400\u001b[0m │\n",
       "├─────────────────────────────────┼────────────────────────┼───────────────┤\n",
       "│ dense_1 (\u001b[38;5;33mDense\u001b[0m)                 │ (\u001b[38;5;45mNone\u001b[0m, \u001b[38;5;34m1\u001b[0m)              │            \u001b[38;5;34m51\u001b[0m │\n",
       "└─────────────────────────────────┴────────────────────────┴───────────────┘\n"
      ]
     },
     "metadata": {},
     "output_type": "display_data"
    },
    {
     "data": {
      "text/html": [
       "<pre style=\"white-space:pre;overflow-x:auto;line-height:normal;font-family:Menlo,'DejaVu Sans Mono',consolas,'Courier New',monospace\"><span style=\"font-weight: bold\"> Total params: </span><span style=\"color: #00af00; text-decoration-color: #00af00\">31,355</span> (122.48 KB)\n",
       "</pre>\n"
      ],
      "text/plain": [
       "\u001b[1m Total params: \u001b[0m\u001b[38;5;34m31,355\u001b[0m (122.48 KB)\n"
      ]
     },
     "metadata": {},
     "output_type": "display_data"
    },
    {
     "data": {
      "text/html": [
       "<pre style=\"white-space:pre;overflow-x:auto;line-height:normal;font-family:Menlo,'DejaVu Sans Mono',consolas,'Courier New',monospace\"><span style=\"font-weight: bold\"> Trainable params: </span><span style=\"color: #00af00; text-decoration-color: #00af00\">10,451</span> (40.82 KB)\n",
       "</pre>\n"
      ],
      "text/plain": [
       "\u001b[1m Trainable params: \u001b[0m\u001b[38;5;34m10,451\u001b[0m (40.82 KB)\n"
      ]
     },
     "metadata": {},
     "output_type": "display_data"
    },
    {
     "data": {
      "text/html": [
       "<pre style=\"white-space:pre;overflow-x:auto;line-height:normal;font-family:Menlo,'DejaVu Sans Mono',consolas,'Courier New',monospace\"><span style=\"font-weight: bold\"> Non-trainable params: </span><span style=\"color: #00af00; text-decoration-color: #00af00\">0</span> (0.00 B)\n",
       "</pre>\n"
      ],
      "text/plain": [
       "\u001b[1m Non-trainable params: \u001b[0m\u001b[38;5;34m0\u001b[0m (0.00 B)\n"
      ]
     },
     "metadata": {},
     "output_type": "display_data"
    },
    {
     "data": {
      "text/html": [
       "<pre style=\"white-space:pre;overflow-x:auto;line-height:normal;font-family:Menlo,'DejaVu Sans Mono',consolas,'Courier New',monospace\"><span style=\"font-weight: bold\"> Optimizer params: </span><span style=\"color: #00af00; text-decoration-color: #00af00\">20,904</span> (81.66 KB)\n",
       "</pre>\n"
      ],
      "text/plain": [
       "\u001b[1m Optimizer params: \u001b[0m\u001b[38;5;34m20,904\u001b[0m (81.66 KB)\n"
      ]
     },
     "metadata": {},
     "output_type": "display_data"
    }
   ],
   "source": [
    "model.summary()"
   ]
  },
  {
   "cell_type": "code",
   "execution_count": null,
   "id": "33e7c1bd-7a05-4823-980f-812efade1bd4",
   "metadata": {},
   "outputs": [],
   "source": []
  },
  {
   "cell_type": "code",
   "execution_count": 53,
   "id": "5aad5ca3-0541-43a5-9c5e-f5f5c19734ca",
   "metadata": {
    "scrolled": true
   },
   "outputs": [
    {
     "name": "stdout",
     "output_type": "stream",
     "text": [
      "[[[0.18618042]\n",
      "  [0.18426104]\n",
      "  [0.19577735]\n",
      "  ...\n",
      "  [0.22456814]\n",
      "  [0.2303263 ]\n",
      "  [0.25335893]]\n",
      "\n",
      " [[0.18426104]\n",
      "  [0.19577735]\n",
      "  [0.19385797]\n",
      "  ...\n",
      "  [0.2303263 ]\n",
      "  [0.25335893]\n",
      "  [0.24760077]]\n",
      "\n",
      " [[0.19577735]\n",
      "  [0.19385797]\n",
      "  [0.20537428]\n",
      "  ...\n",
      "  [0.25335893]\n",
      "  [0.24760077]\n",
      "  [0.2571977 ]]\n",
      "\n",
      " ...\n",
      "\n",
      " [[0.83685221]\n",
      "  [0.83301344]\n",
      "  [0.81190019]\n",
      "  ...\n",
      "  [0.72744722]\n",
      "  [0.72168906]\n",
      "  [0.73896353]]\n",
      "\n",
      " [[0.83301344]\n",
      "  [0.81190019]\n",
      "  [0.77543186]\n",
      "  ...\n",
      "  [0.72168906]\n",
      "  [0.73896353]\n",
      "  [0.73320537]]\n",
      "\n",
      " [[0.81190019]\n",
      "  [0.77543186]\n",
      "  [0.7696737 ]\n",
      "  ...\n",
      "  [0.73896353]\n",
      "  [0.73320537]\n",
      "  [0.73512476]]]\n"
     ]
    }
   ],
   "source": [
    "print(X_test)"
   ]
  },
  {
   "cell_type": "code",
   "execution_count": 51,
   "id": "08d87e4d-457a-49fa-82aa-6b5b557808bd",
   "metadata": {},
   "outputs": [
    {
     "name": "stdout",
     "output_type": "stream",
     "text": [
      "\u001b[1m9/9\u001b[0m \u001b[32m━━━━━━━━━━━━━━━━━━━━\u001b[0m\u001b[37m\u001b[0m \u001b[1m0s\u001b[0m 2ms/step  \n"
     ]
    }
   ],
   "source": [
    "y_pred = model.predict(X_test)"
   ]
  },
  {
   "cell_type": "code",
   "execution_count": 52,
   "id": "0d5e4ffe-a0db-4480-a2b7-67e264d4b609",
   "metadata": {},
   "outputs": [
    {
     "name": "stdout",
     "output_type": "stream",
     "text": [
      "[[0.23693469]\n",
      " [0.24356048]\n",
      " [0.2506059 ]\n",
      " [0.25794086]\n",
      " [0.26766714]\n",
      " [0.2804886 ]\n",
      " [0.29215142]\n",
      " [0.30111355]\n",
      " [0.30868778]\n",
      " [0.3153375 ]\n",
      " [0.32121935]\n",
      " [0.32686162]\n",
      " [0.33999538]\n",
      " [0.3527742 ]\n",
      " [0.36260974]\n",
      " [0.37049875]\n",
      " [0.37505898]\n",
      " [0.37559384]\n",
      " [0.37325397]\n",
      " [0.3729266 ]\n",
      " [0.37192777]\n",
      " [0.37144148]\n",
      " [0.3722483 ]\n",
      " [0.37355494]\n",
      " [0.37481466]\n",
      " [0.37308553]\n",
      " [0.3730787 ]\n",
      " [0.3714627 ]\n",
      " [0.37101072]\n",
      " [0.3671062 ]\n",
      " [0.3645256 ]\n",
      " [0.36381796]\n",
      " [0.36184397]\n",
      " [0.36091897]\n",
      " [0.36087915]\n",
      " [0.36325496]\n",
      " [0.36421454]\n",
      " [0.36216265]\n",
      " [0.36150432]\n",
      " [0.36232919]\n",
      " [0.36631808]\n",
      " [0.36964148]\n",
      " [0.37423226]\n",
      " [0.38156763]\n",
      " [0.38908693]\n",
      " [0.39567235]\n",
      " [0.4052919 ]\n",
      " [0.41759405]\n",
      " [0.42616433]\n",
      " [0.43489355]\n",
      " [0.44320878]\n",
      " [0.4536648 ]\n",
      " [0.46602046]\n",
      " [0.47761783]\n",
      " [0.48637107]\n",
      " [0.4913246 ]\n",
      " [0.49096802]\n",
      " [0.49098414]\n",
      " [0.49346584]\n",
      " [0.49902382]\n",
      " [0.5076382 ]\n",
      " [0.5098976 ]\n",
      " [0.51140696]\n",
      " [0.51226217]\n",
      " [0.5140761 ]\n",
      " [0.5176319 ]\n",
      " [0.52131206]\n",
      " [0.52392507]\n",
      " [0.5269054 ]\n",
      " [0.531993  ]\n",
      " [0.53790015]\n",
      " [0.5448616 ]\n",
      " [0.5482302 ]\n",
      " [0.54694813]\n",
      " [0.5426905 ]\n",
      " [0.5445332 ]\n",
      " [0.5472094 ]\n",
      " [0.55022573]\n",
      " [0.55606943]\n",
      " [0.56340665]\n",
      " [0.56587845]\n",
      " [0.56635606]\n",
      " [0.56044286]\n",
      " [0.5609155 ]\n",
      " [0.56078035]\n",
      " [0.56011325]\n",
      " [0.56350064]\n",
      " [0.56797993]\n",
      " [0.57400924]\n",
      " [0.58228886]\n",
      " [0.5903409 ]\n",
      " [0.59457815]\n",
      " [0.5981791 ]\n",
      " [0.60192174]\n",
      " [0.6083382 ]\n",
      " [0.61685085]\n",
      " [0.61304265]\n",
      " [0.60639864]\n",
      " [0.6020406 ]\n",
      " [0.600853  ]\n",
      " [0.6022708 ]\n",
      " [0.60380757]\n",
      " [0.6047477 ]\n",
      " [0.60442084]\n",
      " [0.6018036 ]\n",
      " [0.5979262 ]\n",
      " [0.5963077 ]\n",
      " [0.592351  ]\n",
      " [0.5906047 ]\n",
      " [0.58920926]\n",
      " [0.58489496]\n",
      " [0.5791736 ]\n",
      " [0.5714019 ]\n",
      " [0.56563306]\n",
      " [0.5643666 ]\n",
      " [0.56448585]\n",
      " [0.5666687 ]\n",
      " [0.5690087 ]\n",
      " [0.5711944 ]\n",
      " [0.57190293]\n",
      " [0.5714028 ]\n",
      " [0.57027286]\n",
      " [0.5667917 ]\n",
      " [0.5683868 ]\n",
      " [0.5699012 ]\n",
      " [0.57838243]\n",
      " [0.5882127 ]\n",
      " [0.59667176]\n",
      " [0.60356504]\n",
      " [0.6066066 ]\n",
      " [0.60986835]\n",
      " [0.6124998 ]\n",
      " [0.6160122 ]\n",
      " [0.61608297]\n",
      " [0.6129059 ]\n",
      " [0.6117664 ]\n",
      " [0.6069877 ]\n",
      " [0.6050303 ]\n",
      " [0.60527354]\n",
      " [0.60355663]\n",
      " [0.6020654 ]\n",
      " [0.5996398 ]\n",
      " [0.59497386]\n",
      " [0.5974455 ]\n",
      " [0.60304207]\n",
      " [0.6124844 ]\n",
      " [0.6226935 ]\n",
      " [0.62918186]\n",
      " [0.6341809 ]\n",
      " [0.64487803]\n",
      " [0.6626772 ]\n",
      " [0.68411434]\n",
      " [0.6994807 ]\n",
      " [0.7118889 ]\n",
      " [0.72585094]\n",
      " [0.7398661 ]\n",
      " [0.75210905]\n",
      " [0.76171976]\n",
      " [0.7573799 ]\n",
      " [0.7524107 ]\n",
      " [0.746171  ]\n",
      " [0.743847  ]\n",
      " [0.745108  ]\n",
      " [0.7447528 ]\n",
      " [0.7411153 ]\n",
      " [0.7369303 ]\n",
      " [0.7308299 ]\n",
      " [0.72706103]\n",
      " [0.72853386]\n",
      " [0.7275593 ]\n",
      " [0.72609985]\n",
      " [0.7253208 ]\n",
      " [0.7251427 ]\n",
      " [0.7243561 ]\n",
      " [0.7271989 ]\n",
      " [0.7307622 ]\n",
      " [0.7346114 ]\n",
      " [0.73822343]\n",
      " [0.74177635]\n",
      " [0.7469717 ]\n",
      " [0.75004774]\n",
      " [0.75266945]\n",
      " [0.7551694 ]\n",
      " [0.7580327 ]\n",
      " [0.75781727]\n",
      " [0.7577744 ]\n",
      " [0.75741255]\n",
      " [0.75521046]\n",
      " [0.7499066 ]\n",
      " [0.7422908 ]\n",
      " [0.7384058 ]\n",
      " [0.7386527 ]\n",
      " [0.7379621 ]\n",
      " [0.7383666 ]\n",
      " [0.74419147]\n",
      " [0.7490225 ]\n",
      " [0.75730324]\n",
      " [0.764484  ]\n",
      " [0.77593255]\n",
      " [0.7889695 ]\n",
      " [0.80151945]\n",
      " [0.811465  ]\n",
      " [0.81854236]\n",
      " [0.824797  ]\n",
      " [0.8213271 ]\n",
      " [0.8130111 ]\n",
      " [0.8007161 ]\n",
      " [0.7878147 ]\n",
      " [0.7780841 ]\n",
      " [0.76752895]\n",
      " [0.75684845]\n",
      " [0.74685305]\n",
      " [0.7378217 ]\n",
      " [0.72920007]\n",
      " [0.72582656]\n",
      " [0.73037094]\n",
      " [0.73571676]\n",
      " [0.7384244 ]\n",
      " [0.74009913]\n",
      " [0.7429572 ]\n",
      " [0.7464537 ]\n",
      " [0.7481152 ]\n",
      " [0.7508165 ]\n",
      " [0.75363964]\n",
      " [0.757264  ]\n",
      " [0.76675403]\n",
      " [0.7733327 ]\n",
      " [0.7752592 ]\n",
      " [0.77288646]\n",
      " [0.77221197]\n",
      " [0.7711286 ]\n",
      " [0.773258  ]\n",
      " [0.7752301 ]\n",
      " [0.7779397 ]\n",
      " [0.778416  ]\n",
      " [0.77622455]\n",
      " [0.7755011 ]\n",
      " [0.7748775 ]\n",
      " [0.7753116 ]\n",
      " [0.7755086 ]\n",
      " [0.7751042 ]\n",
      " [0.7747673 ]\n",
      " [0.77622205]\n",
      " [0.77946156]\n",
      " [0.7832723 ]\n",
      " [0.7864134 ]\n",
      " [0.7916479 ]\n",
      " [0.8012039 ]\n",
      " [0.80782753]\n",
      " [0.8082494 ]\n",
      " [0.8082713 ]\n",
      " [0.8136567 ]\n",
      " [0.8190913 ]\n",
      " [0.81805897]\n",
      " [0.80897135]\n",
      " [0.79919577]\n",
      " [0.7926661 ]\n",
      " [0.78295314]\n",
      " [0.76936954]\n",
      " [0.7559914 ]\n",
      " [0.74738836]\n",
      " [0.7400523 ]\n",
      " [0.73493814]]\n"
     ]
    }
   ],
   "source": [
    "print(y_pred)"
   ]
  },
  {
   "cell_type": "code",
   "execution_count": 54,
   "id": "d0ae55fb-83e8-4be7-a96d-95889ddd158c",
   "metadata": {},
   "outputs": [
    {
     "name": "stdout",
     "output_type": "stream",
     "text": [
      "Mean absolute error on test set: 3.90%\n"
     ]
    }
   ],
   "source": [
    "from sklearn.metrics import mean_absolute_error\n",
    "\n",
    "mae = mean_absolute_error(y_test, y_pred)\n",
    "mae_percentage = (mae / np.mean(y_test)) * 100\n",
    "print(\"Mean absolute error on test set: {:.2f}%\".format(mae_percentage))"
   ]
  },
  {
   "cell_type": "code",
   "execution_count": 56,
   "id": "99e10537-688a-41bb-8fbb-2f5b5c35a1c8",
   "metadata": {},
   "outputs": [
    {
     "name": "stdout",
     "output_type": "stream",
     "text": [
      "R2 score: 0.9604749112173234\n"
     ]
    }
   ],
   "source": [
    "from sklearn.metrics import r2_score\n",
    "\n",
    "# Actual values\n",
    "actual = y_test\n",
    "\n",
    "# Predicted values\n",
    "predicted = y_pred\n",
    "\n",
    "# Calculate the R2 score\n",
    "r2 = r2_score(actual, predicted)\n",
    "\n",
    "print(\"R2 score:\", r2)"
   ]
  },
  {
   "cell_type": "code",
   "execution_count": 57,
   "id": "be4b6130-ced9-4fa0-b755-fa761388a12d",
   "metadata": {},
   "outputs": [
    {
     "data": {
      "image/png": "[encoded data removed]",
      "text/plain": [
       "<Figure size 640x480 with 1 Axes>"
      ]
     },
     "metadata": {},
     "output_type": "display_data"
    }
   ],
   "source": [
    "# Plotting the R2 score\n",
    "fig, ax = plt.subplots()\n",
    "ax.barh(0, r2, color='skyblue')\n",
    "ax.set_xlim([-1, 1])\n",
    "ax.set_yticks([])\n",
    "ax.set_xlabel('R2 Score')\n",
    "ax.set_title('R2 Score')\n",
    "\n",
    "# Adding the R2 score value on the bar\n",
    "ax.text(r2, 0, f'{r2:.2f}', va='center', color='black')\n",
    "\n",
    "plt.show()"
   ]
  },
  {
   "cell_type": "code",
   "execution_count": 58,
   "id": "798f9cc4-8e2c-4404-95b7-b8ef964f88b7",
   "metadata": {},
   "outputs": [
    {
     "data": {
      "image/png": "[encoded data removed]",
      "text/plain": [
       "<Figure size 640x480 with 1 Axes>"
      ]
     },
     "metadata": {},
     "output_type": "display_data"
    }
   ],
   "source": [
    "plt.scatter(actual, predicted)\n",
    "plt.plot([min(actual), max(actual)], [min(predicted), max(predicted)], 'r--')\n",
    "plt.xlabel('Actual Values')\n",
    "plt.ylabel('Predicted Values')\n",
    "plt.title(f'R2 Score: {r2:.2f}')\n",
    "plt.show()"
   ]
  },
  {
   "cell_type": "code",
   "execution_count": 38,
   "id": "27d54084",
   "metadata": {
    "colab": {
     "base_uri": "https://localhost:8080/"
    },
    "id": "27d54084",
    "outputId": "ad6ba529-df8e-469c-af17-c8e39329644c",
    "scrolled": true
   },
   "outputs": [
    {
     "name": "stdout",
     "output_type": "stream",
     "text": [
      "\u001b[1m1/1\u001b[0m \u001b[32m━━━━━━━━━━━━━━━━━━━━\u001b[0m\u001b[37m\u001b[0m \u001b[1m0s\u001b[0m 16ms/step\n",
      "714.6269\n",
      "\u001b[1m1/1\u001b[0m \u001b[32m━━━━━━━━━━━━━━━━━━━━\u001b[0m\u001b[37m\u001b[0m \u001b[1m0s\u001b[0m 16ms/step\n",
      "716.1638\n",
      "\u001b[1m1/1\u001b[0m \u001b[32m━━━━━━━━━━━━━━━━━━━━\u001b[0m\u001b[37m\u001b[0m \u001b[1m0s\u001b[0m 18ms/step\n",
      "718.3185\n",
      "\u001b[1m1/1\u001b[0m \u001b[32m━━━━━━━━━━━━━━━━━━━━\u001b[0m\u001b[37m\u001b[0m \u001b[1m0s\u001b[0m 19ms/step\n",
      "718.2933\n",
      "\u001b[1m1/1\u001b[0m \u001b[32m━━━━━━━━━━━━━━━━━━━━\u001b[0m\u001b[37m\u001b[0m \u001b[1m0s\u001b[0m 18ms/step\n",
      "717.2032\n",
      "\u001b[1m1/1\u001b[0m \u001b[32m━━━━━━━━━━━━━━━━━━━━\u001b[0m\u001b[37m\u001b[0m \u001b[1m0s\u001b[0m 16ms/step\n",
      "719.6959\n",
      "\u001b[1m1/1\u001b[0m \u001b[32m━━━━━━━━━━━━━━━━━━━━\u001b[0m\u001b[37m\u001b[0m \u001b[1m0s\u001b[0m 19ms/step\n",
      "723.2983\n",
      "\u001b[1m1/1\u001b[0m \u001b[32m━━━━━━━━━━━━━━━━━━━━\u001b[0m\u001b[37m\u001b[0m \u001b[1m0s\u001b[0m 19ms/step\n",
      "723.9722\n",
      "\u001b[1m1/1\u001b[0m \u001b[32m━━━━━━━━━━━━━━━━━━━━\u001b[0m\u001b[37m\u001b[0m \u001b[1m0s\u001b[0m 18ms/step\n",
      "723.0715\n",
      "\u001b[1m1/1\u001b[0m \u001b[32m━━━━━━━━━━━━━━━━━━━━\u001b[0m\u001b[37m\u001b[0m \u001b[1m0s\u001b[0m 16ms/step\n",
      "721.2468\n"
     ]
    },
    {
     "data": {
      "image/png": "[encoded data removed]",
      "text/plain": [
       "<Figure size 1600x600 with 1 Axes>"
      ]
     },
     "metadata": {},
     "output_type": "display_data"
    }
   ],
   "source": [
    "# Делаем прогноз\n",
    "window_size = 10 \n",
    "\n",
    "# Создаем список для хранения прогнозов\n",
    "forecasts = []\n",
    "\n",
    "# Текущий индекс в массиве данных\n",
    "current_index = 0\n",
    "\n",
    "# Индекс последнего элемента в выборке\n",
    "last_element_index = len(data_closed_scaled)-1\n",
    "\n",
    "# Проходим по всем данным, используя сдвигающиеся окна\n",
    "while current_index < 10:\n",
    "    # Выбираем данные для прогнозирования\n",
    "    recent_data = data_closed_scaled['Close'][current_index:last_element_index]\n",
    "\n",
    "    # Преобразуем данные в нужный формат для модели\n",
    "    recent_data = np.resize([(recent_data)], window_size).reshape(1, window_size, 1)\n",
    "    \n",
    "    # Делаем прогноз\n",
    "    predicted_value_scaled = model.predict(recent_data)\n",
    "    \n",
    "    # Преобразуем обратно в исходное значение\n",
    "    predicted_value = scaler.inverse_transform(predicted_value_scaled)\n",
    "    \n",
    "    # Получаем голое значение без скобок и всего подобного\n",
    "    predicted_value_single = predicted_value.item()\n",
    "    \n",
    "    # Ограничиваем количество знаков после запятой до 4 с помощью форматирования строк\n",
    "    predicted_value_single_formatted = \"{:.4f}\".format(predicted_value_single)\n",
    "    print(predicted_value_single_formatted)\n",
    "    \n",
    "    # Добавляем прогноз в список результатов, преобразовав обратно в float\n",
    "    forecasts.append(float(predicted_value_single_formatted))\n",
    "    \n",
    "    # Увеличиваем текущий индекс и обновляем индекс последнего элемента\n",
    "    current_index += 1\n",
    "    last_element_index = current_index + window_size\n",
    "\n",
    "\n",
    "forecasts\n",
    "real_data = data_closed['Close']\n",
    "forecasts = np.squeeze(forecasts)\n",
    "predicted_df = pd.DataFrame(forecasts, columns=['Predicted'], index=range(len(data_closed), len(data_closed) + len(forecasts)))\n",
    "\n",
    "# Объединяем реальные данные и прогнозы в один DataFrame\n",
    "combined_data = pd.concat([real_data.tail(20), predicted_df], axis=1)\n",
    "\n",
    "# Устанавливаем заголовки для столбцов\n",
    "combined_data.columns = ['Actual', 'Predicted']\n",
    "\n",
    "# Создаем график\n",
    "plt.figure(figsize=(16, 6))\n",
    "plt.plot(combined_data, linewidth=0.5)\n",
    "plt.title('Actual vs Predicted price')\n",
    "plt.xlabel('time_s')\n",
    "plt.ylabel('price')\n",
    "plt.legend(['Actual', 'Predicted'])\n",
    "plt.grid()\n",
    "plt.show()"
   ]
  },
  {
   "cell_type": "code",
   "execution_count": 24,
   "id": "7dddabcb-9aa3-4703-a081-df5ec3a4d2f5",
   "metadata": {},
   "outputs": [
    {
     "name": "stderr",
     "output_type": "stream",
     "text": [
      "INFO:     Started server process [9684]\n",
      "INFO:     Waiting for application startup.\n",
      "INFO:     Application startup complete.\n",
      "INFO:     Uvicorn running on http://0.0.0.0:8000 (Press CTRL+C to quit)\n",
      "INFO:     Shutting down\n",
      "INFO:     Waiting for application shutdown.\n",
      "INFO:     Application shutdown complete.\n",
      "INFO:     Finished server process [9684]\n"
     ]
    }
   ],
   "source": [
    "from fastapi import FastAPI\n",
    "from pydantic import BaseModel\n",
    "import numpy as np\n",
    "import tensorflow as tf\n",
    "import os\n",
    "import nest_asyncio\n",
    "import uvicorn\n",
    "\n",
    "nest_asyncio.apply()\n",
    "\n",
    "app = FastAPI()\n",
    "\n",
    "# Укажите путь к вашей модели\n",
    "MODEL_PATH = 'keras_model.keras'\n",
    "\n",
    "# Проверьте, существует ли файл модели\n",
    "if not os.path.exists(MODEL_PATH):\n",
    "   raise FileNotFoundError(f\"Model file not found at {MODEL_PATH}\")\n",
    "\n",
    "# Загрузите вашу модель\n",
    "model = tf.keras.models.load_model(MODEL_PATH)\n",
    "\n",
    "class PredictionRequest(BaseModel):\n",
    "   input: list\n",
    "\n",
    "@app.post(\"/predict\")\n",
    "async def predict(request: PredictionRequest):\n",
    "   input_data = np.array(request.input).reshape(1, -1)\n",
    "   prediction = model.predict(input_data)\n",
    "   return {\"prediction\": prediction.tolist()}\n",
    "\n",
    "if __name__ == \"__main__\":\n",
    "       config = uvicorn.Config(app, host=\"0.0.0.0\", port=8000)\n",
    "       server = uvicorn.Server(config)\n",
    "       server.run()"
   ]
  },
  {
   "cell_type": "code",
   "execution_count": null,
   "id": "aca9b9c8-82f0-425e-9bca-304adc18081a",
   "metadata": {},
   "outputs": [],
   "source": []
  }
 ],
 "metadata": {
  "accelerator": "GPU",
  "colab": {
   "gpuType": "V100",
   "machine_shape": "hm",
   "provenance": []
  },
  "kernelspec": {
   "display_name": "Python 3 (ipykernel)",
   "language": "python",
   "name": "python3"
  },
  "language_info": {
   "codemirror_mode": {
    "name": "ipython",
    "version": 3
   },
   "file_extension": ".py",
   "mimetype": "text/x-python",
   "name": "python",
   "nbconvert_exporter": "python",
   "pygments_lexer": "ipython3",
   "version": "3.11.7"
  }
 },
 "nbformat": 4,
 "nbformat_minor": 5
}
